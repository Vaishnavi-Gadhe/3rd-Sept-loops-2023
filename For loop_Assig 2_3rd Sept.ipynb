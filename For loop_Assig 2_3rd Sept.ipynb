{
 "cells": [
  {
   "cell_type": "code",
   "execution_count": 1,
   "id": "413a15ac-89e8-4314-b5bb-d58d2cbb47ca",
   "metadata": {},
   "outputs": [
    {
     "name": "stdout",
     "output_type": "stream",
     "text": [
      "1\n",
      "2\n",
      "3\n",
      "4\n",
      "5\n",
      "6\n",
      "7\n",
      "8\n",
      "9\n",
      "10\n"
     ]
    }
   ],
   "source": [
    "                                         #Basic Level:\n",
    "#1. Write a Python program to print the numbers from 1 to 10 using a `for` loop.\n",
    "\n",
    "for i in range (1,11):\n",
    "    print(i)"
   ]
  },
  {
   "cell_type": "code",
   "execution_count": 3,
   "id": "91bd8635-bd71-4dcb-97c9-d43e9b7626cb",
   "metadata": {},
   "outputs": [
    {
     "name": "stdout",
     "output_type": "stream",
     "text": [
      "20\n"
     ]
    }
   ],
   "source": [
    "#2. Create a program that calculates the sum of all numbers in a list using a `for` loop.\n",
    "\n",
    "list = [2,2,2,2,2,2,2,2,2,2]\n",
    "for a in list:\n",
    " total = sum (list)\n",
    "print(total) "
   ]
  },
  {
   "cell_type": "code",
   "execution_count": 9,
   "id": "8723b9a1-c725-458e-a749-21e4850395dc",
   "metadata": {},
   "outputs": [
    {
     "name": "stdout",
     "output_type": "stream",
     "text": [
      "The original string is : abcdefghi\n",
      "The reversed string(using loops) is : ihgfedcba\n"
     ]
    }
   ],
   "source": [
    "#3. Write a program to print the characters of a string in reverse order using a `for` loop.\n",
    "def reverse(s):\n",
    "    str = \"\"\n",
    "    for i in s:\n",
    "        str = i + str\n",
    "    return str\n",
    " \n",
    "s = \"abcdefghi\"\n",
    " \n",
    "print(\"The original string is : \", end=\"\")\n",
    "print(s)\n",
    " \n",
    "print(\"The reversed string(using loops) is : \", end=\"\")\n",
    "print(reverse(s))\n",
    "    "
   ]
  },
  {
   "cell_type": "code",
   "execution_count": 23,
   "id": "8d4f7e97-4287-43d5-9125-19e6de9f116b",
   "metadata": {},
   "outputs": [
    {
     "name": "stdin",
     "output_type": "stream",
     "text": [
      "Enter a number:  5\n"
     ]
    },
    {
     "name": "stdout",
     "output_type": "stream",
     "text": [
      "The factorial of 5 is 120\n"
     ]
    }
   ],
   "source": [
    "#4. Develop a program that finds the factorial of a given number using a `for` loop.\n",
    "\n",
    "n = int(input(\"Enter a number: \"))\n",
    "factorial = 1\n",
    "for i in range(1,n + 1):\n",
    "       factorial = factorial*i\n",
    "print(\"The factorial of\",n,\"is\",factorial)\n"
   ]
  },
  {
   "cell_type": "code",
   "execution_count": 24,
   "id": "440d2a82-ea6f-408b-946e-604d5dc9249d",
   "metadata": {},
   "outputs": [
    {
     "name": "stdin",
     "output_type": "stream",
     "text": [
      "Enter the number of which the user wants to print the multiplication table:  6\n"
     ]
    },
    {
     "name": "stdout",
     "output_type": "stream",
     "text": [
      "The Multiplication Table of:  6\n",
      "6 x 1 = 6\n",
      "6 x 2 = 12\n",
      "6 x 3 = 18\n",
      "6 x 4 = 24\n",
      "6 x 5 = 30\n",
      "6 x 6 = 36\n",
      "6 x 7 = 42\n",
      "6 x 8 = 48\n",
      "6 x 9 = 54\n",
      "6 x 10 = 60\n"
     ]
    }
   ],
   "source": [
    "#5. Create a program to print the multiplication table of a given number using a `for` loop.\n",
    "number = int(input (\"Enter the number of which the user wants to print the multiplication table: \"))      \n",
    "# We are using \"for loop\" to iterate the multiplication 10 times       \n",
    "print (\"The Multiplication Table of: \", number)    \n",
    "for count in range(1, 11):      \n",
    "   print (number, 'x', count, '=', number * count)    \n"
   ]
  },
  {
   "cell_type": "code",
   "execution_count": 33,
   "id": "da9e7d6f-98ac-412c-9630-e8816d6fa3a3",
   "metadata": {},
   "outputs": [
    {
     "name": "stdout",
     "output_type": "stream",
     "text": [
      "Number of even numbers: 5\n",
      "Number of odd numbers: 3\n"
     ]
    }
   ],
   "source": [
    "#6. Write a program that counts the number of even and odd numbers in a list using a `for` loop.\n",
    "numbers = [2,2,3,3,4,6,8,7,]\n",
    "\n",
    "# Initialize counters for counting odd and even numbers\n",
    "count_odd = 0\n",
    "count_even = 0\n",
    "\n",
    "# Iterate through each element 'x' in the tuple 'numbers'\n",
    "for x in numbers:\n",
    "    # Check if the current number 'x' is even by evaluating 'not x % 2'\n",
    "    if not x % 2:  # If 'x' modulo 2 equals 0, it's even\n",
    "        # Increment the count of even numbers\n",
    "        count_even += 1\n",
    "    else:\n",
    "        # If 'x' modulo 2 doesn't equal 0, it's odd; increment the count of odd numbers\n",
    "        count_odd += 1\n",
    "\n",
    "# Print the total count of even and odd numbers\n",
    "print(\"Number of even numbers:\", count_even)\n",
    "print(\"Number of odd numbers:\", count_odd) "
   ]
  },
  {
   "cell_type": "code",
   "execution_count": 13,
   "id": "5c7cc892-7ad3-4950-8274-8e2e41417a34",
   "metadata": {},
   "outputs": [
    {
     "name": "stdout",
     "output_type": "stream",
     "text": [
      "1\n",
      "4\n",
      "9\n",
      "16\n",
      "25\n"
     ]
    }
   ],
   "source": [
    "#7. Develop a program that prints the squares of numbers from 1 to 5 using a `for` loop.\n",
    "\n",
    "def squaresum(n):\n",
    "    sm = 0\n",
    "    for i in range(1, n+1):\n",
    "        sm = (i * i)\n",
    "    return sm\n",
    "n=1\n",
    "print(squaresum(n))\n",
    "   \n",
    "n=2\n",
    "print(squaresum(n))   \n",
    "\n",
    "n=3\n",
    "print(squaresum(n))\n",
    "\n",
    "n=4\n",
    "print(squaresum(n))\n",
    "\n",
    "n=5\n",
    "print(squaresum(n))\n"
   ]
  },
  {
   "cell_type": "code",
   "execution_count": 15,
   "id": "53b371ad-0cbd-40e2-b60e-860b1b302e2d",
   "metadata": {},
   "outputs": [
    {
     "name": "stdin",
     "output_type": "stream",
     "text": [
      "Enter string: hiall\n"
     ]
    },
    {
     "name": "stdout",
     "output_type": "stream",
     "text": [
      "Length of the string is:\n",
      "5\n"
     ]
    }
   ],
   "source": [
    "#8. Create a program to find the length of a string without using the `len()` function.\n",
    "string=input(\"Enter string:\")\n",
    "count=0\n",
    "for i in string:\n",
    "      count=count+1\n",
    "print(\"Length of the string is:\")\n",
    "print(count)\n"
   ]
  },
  {
   "cell_type": "code",
   "execution_count": 21,
   "id": "dc34229e-c995-4670-ab42-91bc9d09ccde",
   "metadata": {},
   "outputs": [
    {
     "name": "stdout",
     "output_type": "stream",
     "text": [
      "26.333333333333332\n"
     ]
    }
   ],
   "source": [
    "#9. Write a program that calculates the average of a list of numbers using a `for` loop.\n",
    "list = [15, 9, 55]\n",
    "for a in list:\n",
    " total = sum(list)/len(list)\n",
    "print(total) "
   ]
  },
  {
   "cell_type": "code",
   "execution_count": 9,
   "id": "202d6ec9-b80b-4b2e-a130-5ec75217c484",
   "metadata": {},
   "outputs": [
    {
     "name": "stdin",
     "output_type": "stream",
     "text": [
      "Enter the terms 6\n"
     ]
    },
    {
     "name": "stdout",
     "output_type": "stream",
     "text": [
      "0 1 1 2 3 5 "
     ]
    }
   ],
   "source": [
    "#10. Develop a program that prints the first `n` Fibonacci numbers using a `for` loop.\n",
    "a=int(input(\"Enter the terms\"))\n",
    "f=0                                         #first element of series\n",
    "s=1                                         #second element of series\n",
    "if a<=0:\n",
    "    print(\"The requested series is\",f)\n",
    "else:\n",
    "    print(f,s,end=\" \")\n",
    "for x in range(2,a):\n",
    "        next=f+s                           \n",
    "        print(next,end=\" \")\n",
    "        f=s\n",
    "        s=next"
   ]
  },
  {
   "cell_type": "code",
   "execution_count": null,
   "id": "fcca38c0-fed2-4a1a-80bc-2f92ee604d24",
   "metadata": {},
   "outputs": [],
   "source": [
    "                                                #Intermediate Level:"
   ]
  },
  {
   "cell_type": "code",
   "execution_count": 18,
   "id": "29fc423a-077a-4fae-8979-3d27d9b91939",
   "metadata": {},
   "outputs": [
    {
     "name": "stdout",
     "output_type": "stream",
     "text": [
      "Found duplicates in the list [1, 5, 7]\n"
     ]
    }
   ],
   "source": [
    "#11. Write a program to check if a given list contains any duplicates using a `for` loop.\n",
    "def Repeat(x):\n",
    "    _size = len(x)\n",
    "    repeated = []\n",
    "    for i in range(_size):\n",
    "        k = i + 1\n",
    "        for j in range(k, _size):\n",
    "            if x[i] == x[j] and x[i] not in repeated:\n",
    "                repeated.append(x[i])\n",
    "    return repeated\n",
    "list1 = [1,1,3,4,5,5,6,7,7]\n",
    "print (\"Found duplicates in the list\", Repeat(list1))"
   ]
  },
  {
   "cell_type": "code",
   "execution_count": 32,
   "id": "95138344-1828-44ee-9df1-7fa1eff73806",
   "metadata": {},
   "outputs": [
    {
     "name": "stdout",
     "output_type": "stream",
     "text": [
      "[2, 3, 5, 7, 11, 13]\n"
     ]
    }
   ],
   "source": [
    "#12. Create a program that prints the prime numbers in a given range using a `for` loop.\n",
    "low, high = 2, 15\n",
    "primes = [2, 3]\n",
    "\n",
    "for num in range(low, high + 1):\n",
    "    flag = 0\n",
    "    \n",
    "    if num < 2:\n",
    "        flag = 1\n",
    "        \n",
    "    if num % 2 == 0:\n",
    "        continue\n",
    "        \n",
    "    if num % 3 == 0:\n",
    "        continue\n",
    "        \n",
    "    iter = 2\n",
    "    while iter < int(pow(num, 0.5)):\n",
    "        if num % iter == 0:\n",
    "            flag = 1\n",
    "            break\n",
    "        iter += 1\n",
    "        \n",
    "    if flag == 0:\n",
    "        primes.append(num)\n",
    "\n",
    "print(primes)\n"
   ]
  },
  {
   "cell_type": "code",
   "execution_count": 33,
   "id": "2fafc3fe-c10d-472c-85a4-8edca1a20e6c",
   "metadata": {},
   "outputs": [
    {
     "name": "stdout",
     "output_type": "stream",
     "text": [
      "Number of vowels: 6\n"
     ]
    }
   ],
   "source": [
    "#13. Develop a program that counts the number of vowels in a string using a `for` loop.\n",
    "sentence = (\"Hi I am a coder\")\n",
    "\n",
    "# Step 2: Initialize a variable to count the vowels\n",
    "vowel_count = 0\n",
    "\n",
    "# Step 3: Iterate through each character in the sentence\n",
    "for char in sentence:\n",
    "    # Step 4: Convert the character to lowercase to handle both uppercase and lowercase vowels\n",
    "    char_lower = char.lower()\n",
    "\n",
    "    # Step 5: Check if the character is a vowel (a, e, i, o, u)\n",
    "    if char_lower in \"aeiou\":\n",
    "        # Step 6: If the character is a vowel, increment the vowel_count variable\n",
    "        vowel_count += 1\n",
    "\n",
    "# Step 7: Display the result\n",
    "print(\"Number of vowels:\", vowel_count)"
   ]
  },
  {
   "cell_type": "code",
   "execution_count": 37,
   "id": "23496e31-d33b-45af-9b0b-3b004db8f42b",
   "metadata": {},
   "outputs": [
    {
     "name": "stdout",
     "output_type": "stream",
     "text": [
      "190\n"
     ]
    }
   ],
   "source": [
    "#14. Write a program to find the maximum element in a 2D list using a nested `for` loop.\n",
    "def prod(lis):\n",
    "    maxi = 0\n",
    "     \n",
    "    # traversal in the lists\n",
    "    for x in lis:\n",
    "        p = 1 \n",
    "        # traversal in list of lists\n",
    "        for i in x:\n",
    "            p *= i\n",
    "            maxi = max(p, maxi)\n",
    "    return maxi\n",
    "l = [[1, 1, 190], [3, 10, 5], [2, 1, 2]]\n",
    "print(prod(l))"
   ]
  },
  {
   "cell_type": "code",
   "execution_count": 40,
   "id": "a0563e27-de9b-4f4c-9e11-8bbef2d2b42c",
   "metadata": {},
   "outputs": [
    {
     "name": "stdout",
     "output_type": "stream",
     "text": [
      "Original list:\n",
      "[12, 20, 20, 40, 10, 22, 33, 22, 4, 6, 7, 7]\n",
      "list after removing elements:\n",
      "[12, 20, 20, 40, 22, 33, 22, 4, 6, 7, 7]\n"
     ]
    }
   ],
   "source": [
    "#15. Create a program that removes all occurrences of a specific element from a list using a `for` loop.\n",
    "# list with integer elements\n",
    "list = [12, 20, 20, 40, 10, 22, 33, 22,4,6,7,7]\n",
    "# number (n) to be removed\n",
    "n = 10\n",
    "\n",
    "# print original list \n",
    "print (\"Original list:\")\n",
    "print (list)\n",
    "\n",
    "# loop to traverse each element in list\n",
    "# and, remove elements \n",
    "# which are equals to n\n",
    "for x in list:\n",
    "    if x == n:\n",
    "        list.remove(x)\n",
    "# print list after removing given element\n",
    "print (\"list after removing elements:\")\n",
    "print (list)"
   ]
  },
  {
   "cell_type": "code",
   "execution_count": 2,
   "id": "8058a2d5-6fc7-48c5-beda-68656a9a7f4c",
   "metadata": {},
   "outputs": [
    {
     "name": "stdout",
     "output_type": "stream",
     "text": [
      "i = 1 : 1 2 3 4 5 6 7 8 9 10 \n",
      "i = 2 : 2 4 6 8 10 12 14 16 18 20 \n",
      "i = 3 : 3 6 9 12 15 18 21 24 27 30 \n",
      "i = 4 : 4 8 12 16 20 24 28 32 36 40 \n"
     ]
    }
   ],
   "source": [
    "#16. Develop a program that generates a multiplication table for numbers from 1 to 5 using a nested `for` loop.\n",
    "for i in range(1, 5):\n",
    "    print(\"i =\", i, \":\", end=\" \")\n",
    "    for j in range(1, 11):\n",
    "        print((i * j), end=\" \")\n",
    "    print()"
   ]
  },
  {
   "cell_type": "code",
   "execution_count": 3,
   "id": "f9cf971a-5df0-4147-b83a-c824456b0d54",
   "metadata": {},
   "outputs": [
    {
     "name": "stdout",
     "output_type": "stream",
     "text": [
      "[32.111111111111114, 19.444444444444443, 33.333333333333336, 37.22222222222222]\n"
     ]
    }
   ],
   "source": [
    "#17. Write a program that converts a list of Fahrenheit temperatures to Celsius using a `for` loop.\n",
    "fah = [89.8, 67.0, 92, 99]\n",
    "\n",
    "cen = []\n",
    "for f in fah:\n",
    "    c = (f - 32) * 5 / 9\n",
    "    cen.append(c)\n",
    "\n",
    "print(cen)\n"
   ]
  },
  {
   "cell_type": "code",
   "execution_count": 16,
   "id": "fb947309-fba4-4f08-8297-427b3faedce4",
   "metadata": {},
   "outputs": [
    {
     "name": "stdout",
     "output_type": "stream",
     "text": [
      "3\n",
      "4\n"
     ]
    }
   ],
   "source": [
    "#18. Create a program to print the common elements from two lists using a `for` loop.\n",
    "def common(L1,L2):\n",
    "    iter2 = iter(sorted(L2)) # iterator on sorted L2 values\n",
    "    Done  = object()         # flag to identify end of iteration\n",
    "    v2    = next(iter2,Done) # get first (lowest) element of L2\n",
    "    for v1 in sorted(L1):\n",
    "        while v2 is not Done and v2<v1:\n",
    "            v2 = next(iter2,Done) # advance in sorted L2 to reach or surpass v1\n",
    "        if v1 == v2: \n",
    "           yield v1               # return matches\n",
    "           v2 = next(iter2,Done)  # advance (only match items once each)\n",
    "        if v2 is Done: break      # stop if L2 values exausted\n",
    "\n",
    "\n",
    "for c in common([3,7,4,2],[4,3,1,8]):\n",
    "    print(c)"
   ]
  },
  {
   "cell_type": "code",
   "execution_count": 35,
   "id": "d285a210-1408-4678-9843-b59ac8c546b9",
   "metadata": {},
   "outputs": [
    {
     "name": "stdin",
     "output_type": "stream",
     "text": [
      "Please Enter the Total Number of Rows  :  5\n"
     ]
    },
    {
     "name": "stdout",
     "output_type": "stream",
     "text": [
      "Right Angled Triangle Star Pattern\n",
      "*  \n",
      "*  *  \n",
      "*  *  *  \n",
      "*  *  *  *  \n",
      "*  *  *  *  *  \n"
     ]
    }
   ],
   "source": [
    "#19Develop a program that prints the pattern of right-angled triangles using a `for` loop. Use ‘*’ to draw the pattern\n",
    "rows = int(input(\"Please Enter the Total Number of Rows  : \"))\n",
    "print(\"Right Angled Triangle Star Pattern\") \n",
    "for i in range(1, rows + 1):\n",
    "    for j in range(1, i + 1):\n",
    "        print('*', end = '  ')\n",
    "    print()"
   ]
  },
  {
   "cell_type": "code",
   "execution_count": 38,
   "id": "0c9fcb3d-d309-4edf-a8b7-8d0958d83ac0",
   "metadata": {},
   "outputs": [
    {
     "name": "stdout",
     "output_type": "stream",
     "text": [
      "GCD of 8 and 40 is 4\n"
     ]
    }
   ],
   "source": [
    "#20. Write a program to find the greatest common divisor (GCD) of two numbers using a `for` loop.\n",
    "num1 = 8\n",
    "num2 = 40\n",
    "gcd = 1\n",
    " \n",
    "for i in range(1, min(num1, num2)):\n",
    "    if num1 % i == 0 and num2 % i == 0:\n",
    "        gcd = i\n",
    "print(\"GCD of\", num1, \"and\", num2, \"is\", gcd)\n"
   ]
  },
  {
   "cell_type": "code",
   "execution_count": 39,
   "id": "55eeae1a-f06d-4ae0-827e-f462d258ac04",
   "metadata": {},
   "outputs": [],
   "source": [
    "                                                   #Advanced Level:"
   ]
  },
  {
   "cell_type": "code",
   "execution_count": 81,
   "id": "33c41289-4462-4823-b24c-255d6100404a",
   "metadata": {},
   "outputs": [
    {
     "name": "stdout",
     "output_type": "stream",
     "text": [
      "[2, 3, 4, 5, 7]\n"
     ]
    }
   ],
   "source": [
    "#21. Create a program that calculates the sum of the digits of numbers in a list using a list comprehension.\n",
    "numlist = [11,12,13,14,16]\n",
    "out = []\n",
    "for x in numlist:\n",
    "    t = 0\n",
    "    for y in str(x):\n",
    "        t += int(y)\n",
    "    out.append(t)\n",
    "print(out)"
   ]
  },
  {
   "cell_type": "code",
   "execution_count": 7,
   "id": "69586d3d-7568-4003-b9ef-99f5f7f8a75f",
   "metadata": {},
   "outputs": [
    {
     "name": "stdout",
     "output_type": "stream",
     "text": [
      "2\n",
      "5\n",
      "5\n"
     ]
    }
   ],
   "source": [
    "#22. Write a program to find the prime factors of a given number using a `for` loop and list comprehension.\n",
    "import math\n",
    "def primeFactors(n):\n",
    "    n=50\n",
    "     # Print the number of two's that divide n\n",
    "    while n % 2 == 0:\n",
    "        print(2)\n",
    "        n = n // 2\n",
    "    # n must be odd at this point\n",
    "    # so a skip of 2 ( i = i + 2) can be used\n",
    "    for i in range(3,int(math.sqrt(n))+1,2):\n",
    "         \n",
    "        # while i divides n , print i and divide n\n",
    "        while n % i== 0:\n",
    "            print(i)\n",
    "            n = n // i\n",
    "             \n",
    "    # Condition if n is a prime\n",
    "    # number greater than 2\n",
    "    if n > 2:\n",
    "        print(n)         \n",
    "primeFactors(n)"
   ]
  },
  {
   "cell_type": "code",
   "execution_count": 12,
   "id": "000e3dbc-62af-4564-8d57-3ad23d7b87cc",
   "metadata": {},
   "outputs": [
    {
     "name": "stdout",
     "output_type": "stream",
     "text": [
      "[1, 2, 3, 4, 5]\n"
     ]
    }
   ],
   "source": [
    "#23. Develop a program that extracts unique elements from a list and stores them in a new list using a list comprehension\n",
    "def unique_list(l):\n",
    "    # Create an empty list 'x' to store unique elements\n",
    "    x = []\n",
    "    \n",
    "    # Iterate through each element 'a' in the input list 'l'\n",
    "    for a in l:\n",
    "        # Check if the element 'a' is not already present in the list 'x'\n",
    "        if a not in x:\n",
    "            # If 'a' is not in 'x', add it to the list 'x'\n",
    "            x.append(a)\n",
    "    \n",
    "    # Return the list 'x' containing unique elements\n",
    "    return x\n",
    "\n",
    "# Print the result of calling the 'unique_list' function with a list containing duplicate elements\n",
    "print(unique_list([1, 2, 3, 3, 3, 3, 4, 5]))  "
   ]
  },
  {
   "cell_type": "code",
   "execution_count": 2,
   "id": "66a727ce-5582-42a9-98f4-0766244c75da",
   "metadata": {},
   "outputs": [
    {
     "name": "stdout",
     "output_type": "stream",
     "text": [
      "Palindromic numbers up to 1000:\n",
      "[0, 1, 2, 3, 4, 5, 6, 7, 8, 9, 11, 22, 33, 44, 55, 66, 77, 88, 99, 101, 111, 121, 131, 141, 151, 161, 171, 181, 191, 202, 212, 222, 232, 242, 252, 262, 272, 282, 292, 303, 313, 323, 333, 343, 353, 363, 373, 383, 393, 404, 414, 424, 434, 444, 454, 464, 474, 484, 494, 505, 515, 525, 535, 545, 555, 565, 575, 585, 595, 606, 616, 626, 636, 646, 656, 666, 676, 686, 696, 707, 717, 727, 737, 747, 757, 767, 777, 787, 797, 808, 818, 828, 838, 848, 858, 868, 878, 888, 898, 909, 919, 929, 939, 949, 959, 969, 979, 989, 999]\n"
     ]
    }
   ],
   "source": [
    "#24. Create a program that generates a list of all palindromic numbers up to a specified limit using a list comprehension.\n",
    "def is_palindrome(num):\n",
    "    # Function to check if a number is a palindrome\n",
    "    return str(num) == str(num)[::-1]\n",
    "\n",
    "def generate_palindromic_numbers(limit):\n",
    "    # Generate a list of palindromic numbers up to the specified limit\n",
    "    palindromic_numbers = [num for num in range(limit + 1) if is_palindrome(num)]\n",
    "    return palindromic_numbers\n",
    "\n",
    "# Example: Generate palindromic numbers up to 1000\n",
    "limit = 1000\n",
    "palindromic_numbers_list = generate_palindromic_numbers(limit)\n",
    "\n",
    "# Display the result\n",
    "print(f\"Palindromic numbers up to {limit}:\")\n",
    "print(palindromic_numbers_list)"
   ]
  },
  {
   "cell_type": "code",
   "execution_count": 3,
   "id": "898ea6cb-44e5-4b2e-a2f0-8abb465b3258",
   "metadata": {},
   "outputs": [
    {
     "name": "stdout",
     "output_type": "stream",
     "text": [
      "Nested List:\n",
      "[[1, 2, 3], [4, 5], [6, 7, 8]]\n",
      "\n",
      "Flattened List:\n",
      "[1, 2, 3, 4, 5, 6, 7, 8]\n"
     ]
    }
   ],
   "source": [
    "#25. Write a program to flatten a nested list using list comprehension.\n",
    "def flatten_nested_list(nested_list):\n",
    "    # Using list comprehension to flatten the nested list\n",
    "    flat_list = [item for sublist in nested_list for item in sublist]\n",
    "    return flat_list\n",
    "\n",
    "# Example: Flatten a nested list\n",
    "nested_list = [[1, 2, 3], [4, 5], [6, 7, 8]]\n",
    "flattened_list = flatten_nested_list(nested_list)\n",
    "\n",
    "# Display the result\n",
    "print(\"Nested List:\")\n",
    "print(nested_list)\n",
    "\n",
    "print(\"\\nFlattened List:\")\n",
    "print(flattened_list)"
   ]
  },
  {
   "cell_type": "code",
   "execution_count": 6,
   "id": "74d2967a-3493-4904-b551-de3a1e18f963",
   "metadata": {},
   "outputs": [
    {
     "name": "stdout",
     "output_type": "stream",
     "text": [
      "Original List:\n",
      "[1, 2, 3, 4, 5, 6, 7, 8, 9, 10]\n",
      "\n",
      "Sum of Even Numbers: 30\n",
      "Sum of Odd Numbers: 25\n"
     ]
    }
   ],
   "source": [
    "#26. Develop a program that computes the sum of even and odd numbers in a list separately using list comprehension.\n",
    "def sum_even_odd(numbers):\n",
    "    # Separate even and odd numbers using list comprehension\n",
    "    even_numbers = [num for num in numbers if num % 2 == 0]\n",
    "    odd_numbers = [num for num in numbers if num % 2 != 0]\n",
    "\n",
    "    # Compute the sum of even and odd numbers\n",
    "    sum_even = sum(even_numbers)\n",
    "    sum_odd = sum(odd_numbers)\n",
    "    return sum_even, sum_odd\n",
    "# Example: Compute the sum of even and odd numbers in a list\n",
    "numbers_list = [1, 2, 3, 4, 5, 6, 7, 8, 9, 10]\n",
    "sum_even_result, sum_odd_result = sum_even_odd(numbers_list)\n",
    "# Display the result\n",
    "print(\"Original List:\")\n",
    "print(numbers_list)\n",
    "\n",
    "print(\"\\nSum of Even Numbers:\", sum_even_result)\n",
    "print(\"Sum of Odd Numbers:\", sum_odd_result)"
   ]
  },
  {
   "cell_type": "code",
   "execution_count": 9,
   "id": "0dba5bb9-8776-4459-af18-89d252d36d69",
   "metadata": {},
   "outputs": [
    {
     "name": "stdout",
     "output_type": "stream",
     "text": [
      "List of Squares of Odd Numbers between 1 and 10:\n",
      "[1, 9, 25, 49, 81, 121, 169, 225, 289, 361]\n"
     ]
    }
   ],
   "source": [
    "#27. Create a program that generates a list of squares of odd numbers between 1 and 10 using list comprehension.\n",
    "squares_of_odd_numbers = [num**2 for num in range(1, 20) if num % 2 != 0]\n",
    "\n",
    "# Display the result\n",
    "print(\"List of Squares of Odd Numbers between 1 and 10:\")\n",
    "print(squares_of_odd_numbers)"
   ]
  },
  {
   "cell_type": "code",
   "execution_count": 11,
   "id": "4660c60c-a54c-4ae2-9724-832b3e23a096",
   "metadata": {},
   "outputs": [
    {
     "name": "stdout",
     "output_type": "stream",
     "text": [
      "Combined Dictionary:\n",
      "{'Name': 'Riya', 'Age': 21, 'City': 'Mumbai'}\n"
     ]
    }
   ],
   "source": [
    "#28. Write a program that combines two lists into a dictionary using list comprehension.\n",
    "keys = ['Name', 'Age', 'City']\n",
    "values = ['Riya', 21, 'Mumbai']\n",
    "# Combine the lists into a dictionary using list comprehension\n",
    "combined_dict = {keys[i]: values[i] for i in range(len(keys))}\n",
    "# Display the result\n",
    "print(\"Combined Dictionary:\")\n",
    "print(combined_dict)"
   ]
  },
  {
   "cell_type": "code",
   "execution_count": 5,
   "id": "8d4b2ad6-f1c3-4cc5-80b8-20a42a988bf2",
   "metadata": {},
   "outputs": [
    {
     "name": "stdout",
     "output_type": "stream",
     "text": [
      "Original String:\n",
      "Hello, World!\n",
      "\n",
      "List of Vowels:\n",
      "['e', 'o', 'o']\n"
     ]
    }
   ],
   "source": [
    "#29. Develop a program that extracts the vowels from a string and stores them in a list using list comprehension.\n",
    "def extract_vowels(input_string):\n",
    "    vowels = [char for char in input_string if char.lower() in 'aeiou']\n",
    "    return vowels\n",
    "# Example: Extract vowels from a string\n",
    "input_string = \"Hello, World!\"\n",
    "vowels_list = extract_vowels(input_string)\n",
    "# Display the result\n",
    "print(\"Original String:\")\n",
    "print(input_string)\n",
    "print(\"\\nList of Vowels:\" )\n",
    "print(vowels_list)"
   ]
  },
  {
   "cell_type": "code",
   "execution_count": 11,
   "id": "ea6e4ebc-f6c0-4396-949e-2f9f62f671cd",
   "metadata": {},
   "outputs": [
    {
     "name": "stdout",
     "output_type": "stream",
     "text": [
      "Original List of Strings:\n",
      "['abc123', '45xyz', '!@#$789', '1a2b3c']\n",
      "\n",
      "List of Strings with Non-Numeric Characters Removed:\n",
      "['123', '45', '789', '123']\n"
     ]
    }
   ],
   "source": [
    "#30. Create a program that removes all non-numeric characters from a list of strings using list comprehension.\n",
    "def remove_non_numeric(strings_list):\n",
    "    cleaned_list = [''.join(char for char in s if char.isdigit()) for s in strings_list]\n",
    "    return cleaned_list\n",
    "\n",
    "# Example: Remove non-numeric characters from a list of strings\n",
    "strings_list = [\"abc123\", \"45xyz\", \"!@#$789\", \"1a2b3c\"]\n",
    "numeric_strings_list = remove_non_numeric(strings_list)\n",
    "\n",
    "# Display the result\n",
    "print(\"Original List of Strings:\")\n",
    "print(strings_list)\n",
    "\n",
    "print(\"\\nList of Strings with Non-Numeric Characters Removed:\")\n",
    "print(numeric_strings_list)"
   ]
  },
  {
   "cell_type": "code",
   "execution_count": 4,
   "id": "84549109-36c7-47bd-bcf1-4118f6d3ec5f",
   "metadata": {},
   "outputs": [
    {
     "name": "stdout",
     "output_type": "stream",
     "text": [
      "List of Prime Numbers up to 10:\n",
      "[2, 3, 5, 7]\n"
     ]
    }
   ],
   "source": [
    "                                                            #Challenge Level:\n",
    "#31. Write a program to generate a list of prime numbers using the Sieve of Eratosthenes algorithm and list comprehension.\n",
    "def sieve_of_eratosthenes(limit):\n",
    "    primes = [True] * (limit + 1)\n",
    "    primes[0] = primes[1] = False  # 0 and 1 are not primes\n",
    "\n",
    "    for i in range(2, int(limit**0.5) + 1):\n",
    "        if primes[i]:\n",
    "            primes[i*i:limit+1:i] = [False] * len(primes[i*i:limit+1:i])\n",
    "\n",
    "    prime_numbers = [num for num in range(2, limit + 1) if primes[num]]\n",
    "    return prime_numbers\n",
    "# Example: Generate a list of prime numbers up to 50\n",
    "limit = 10\n",
    "prime_numbers_list = sieve_of_eratosthenes(limit)\n",
    "# Display the result\n",
    "print(f\"List of Prime Numbers up to {limit}:\")\n",
    "print(prime_numbers_list)"
   ]
  },
  {
   "cell_type": "code",
   "execution_count": 5,
   "id": "293e6c1f-44b9-44f1-92d0-1c3500ff2f56",
   "metadata": {},
   "outputs": [
    {
     "name": "stdout",
     "output_type": "stream",
     "text": [
      "Pythagorean Triplets up to 20:\n",
      "[(3, 4, 5), (5, 12, 13), (6, 8, 10), (8, 15, 17), (9, 12, 15), (12, 16, 20)]\n"
     ]
    }
   ],
   "source": [
    "#32. Create a program that generates a list of all Pythagorean triplets up to a specified limit using list comprehension.\n",
    "def generate_pythagorean_triplets(limit):\n",
    "    triplets = [(a, b, c) for a in range(1, limit+1) \n",
    "                           for b in range(a, limit+1) \n",
    "                           for c in range(b, limit+1) \n",
    "                           if a**2 + b**2 == c**2]\n",
    "    return triplets\n",
    "# Example: Generate Pythagorean triplets up to a limit of 20\n",
    "limit = 20\n",
    "pythagorean_triplets_list = generate_pythagorean_triplets(limit)\n",
    "\n",
    "# Display the result\n",
    "print(f\"Pythagorean Triplets up to {limit}:\")\n",
    "print(pythagorean_triplets_list)\n"
   ]
  },
  {
   "cell_type": "code",
   "execution_count": 7,
   "id": "2dec2df6-95b2-4134-8525-185a0d2ee754",
   "metadata": {},
   "outputs": [
    {
     "name": "stdout",
     "output_type": "stream",
     "text": [
      "All Possible Combinations of [1, 2, 3] and ['a', 'b', 'c']:\n",
      "[(1, 'a'), (1, 'b'), (1, 'c'), (2, 'a'), (2, 'b'), (2, 'c'), (3, 'a'), (3, 'b'), (3, 'c')]\n"
     ]
    }
   ],
   "source": [
    "#33. Develop a program that generates a list of all possible combinations of two lists using list comprehension.\n",
    "def generate_combinations(list1, list2):\n",
    "    combinations = [(item1, item2) for item1 in list1 for item2 in list2]\n",
    "    return combinations\n",
    "# Example: Generate combinations of two lists\n",
    "list1 = [1, 2, 3]\n",
    "list2 = ['a', 'b', 'c']\n",
    "combinations_list = generate_combinations(list1, list2)\n",
    "# Display the result\n",
    "print(f\"All Possible Combinations of {list1} and {list2}:\")\n",
    "print(combinations_list)"
   ]
  },
  {
   "cell_type": "code",
   "execution_count": 11,
   "id": "f9ac125c-f958-4750-a5de-af3f0a46168e",
   "metadata": {},
   "outputs": [
    {
     "name": "stdout",
     "output_type": "stream",
     "text": [
      "List of Numbers: [2, 3, 1, 4, 2, 3, 1, 4, 5, 4, 2, 3]\n",
      "Mean: 2.8333333333333335\n",
      "Median: 3.0\n",
      "Mode: 2\n"
     ]
    }
   ],
   "source": [
    "#34. Write a program that calculates the mean, median, and mode of a list of numbers using list comprehension.\n",
    "from statistics import mean, median, mode\n",
    "def calculate_statistics(numbers):\n",
    "    # Mean calculation using list comprehension\n",
    "    mean_value = sum(numbers) / len(numbers)\n",
    "\n",
    "    # Median calculation using list comprehension\n",
    "    sorted_numbers = sorted(numbers)\n",
    "    mid = len(sorted_numbers) // 2\n",
    "    median_value = (sorted_numbers[mid] + sorted_numbers[-mid-1]) / 2\n",
    "\n",
    "    # Mode calculation using list comprehension\n",
    "    mode_value = max(set(numbers), key=numbers.count)\n",
    "\n",
    "    return mean_value, median_value, mode_value\n",
    "# Example: Calculate mean, median, and mode of a list of numbers\n",
    "numbers_list = [2, 3, 1, 4, 2, 3, 1, 4, 5, 4, 2, 3]\n",
    "mean_result, median_result, mode_result = calculate_statistics(numbers_list)\n",
    "# Display the result\n",
    "print(f\"List of Numbers: {numbers_list}\")\n",
    "print(f\"Mean: {mean_result}\")\n",
    "print(f\"Median: {median_result}\")\n",
    "print(f\"Mode: {mode_result}\")"
   ]
  },
  {
   "cell_type": "code",
   "execution_count": 15,
   "id": "0ab1705e-b8c5-4f2a-bdee-18a9df40ef66",
   "metadata": {},
   "outputs": [
    {
     "name": "stdout",
     "output_type": "stream",
     "text": [
      "Pascal's Triangle with 5 rows:\n",
      "g\n",
      "e\n",
      "n\n",
      "e\n",
      "r\n",
      "a\n",
      "t\n",
      "e\n",
      "_\n",
      "p\n",
      "a\n",
      "s\n",
      "c\n",
      "a\n",
      "l\n",
      "s\n",
      "_\n",
      "t\n",
      "r\n",
      "i\n",
      "a\n",
      "n\n",
      "g\n",
      "l\n",
      "e\n",
      "(\n",
      "n\n",
      "u\n",
      "m\n",
      "_\n",
      "r\n",
      "o\n",
      "w\n",
      "s\n",
      ")\n"
     ]
    }
   ],
   "source": [
    "#35. Create a program that generates Pascal's triangle up to a specified number of rows using list comprehension.\n",
    "def generate_pascals_triangle(rows):\n",
    "    triangle = [[1] + [triangle[row-1][i-1] + triangle[row-1][i] for i in range(1, row)] + [1] for row in range(1, rows+1)]\n",
    "    return triangle\n",
    "\n",
    "def display_pascals_triangle(triangle):\n",
    "    for row in triangle:\n",
    "        print(row)\n",
    "\n",
    "# Example: Generate Pascal's Triangle with 5 rows\n",
    "num_rows = 5\n",
    "pascals_triangle = 'generate_pascals_triangle(num_rows)'\n",
    "\n",
    "# Display the result\n",
    "print(f\"Pascal's Triangle with {num_rows} rows:\")\n",
    "display_pascals_triangle(pascals_triangle)"
   ]
  },
  {
   "cell_type": "code",
   "execution_count": 17,
   "id": "dcbc0c8c-081e-42a1-b4dd-2a443751d3b0",
   "metadata": {},
   "outputs": [
    {
     "name": "stdout",
     "output_type": "stream",
     "text": [
      "Sum of digits of 1!=1\n",
      "Sum of digits of 2!=2\n",
      "Sum of digits of 3!=6\n",
      "Sum of digits of 4!=6\n",
      "Sum of digits of 5!=3\n"
     ]
    }
   ],
   "source": [
    "#36. Develop a program that calculates the sum of the digits of a factorial of numbers from 1 to 5 using list comprehension.\n",
    "from math import factorial\n",
    "\n",
    "def sum_of_digits(n):\n",
    "    # Calculate the sum of the digits of a number\n",
    "    return sum(int(digit) for digit in str(n))\n",
    "\n",
    "# Calculate factorial and sum of digits for numbers from 1 to 5 using list comprehension\n",
    "factorials_sum_digits = [sum_of_digits(factorial(num)) for num in range(1, 6)]\n",
    "\n",
    "\n",
    "# Display the result\n",
    "for num, result in zip(range(1, 6), factorials_sum_digits):\n",
    "    print(f\"Sum of digits of {num}!={result}\")"
   ]
  },
  {
   "cell_type": "code",
   "execution_count": 22,
   "id": "8d15af5e-055c-4647-96a4-a6de05b9254d",
   "metadata": {},
   "outputs": [
    {
     "name": "stdout",
     "output_type": "stream",
     "text": [
      "Input Sentence: Hi Radhika how are you\n",
      "Longest Word: Radhika\n"
     ]
    }
   ],
   "source": [
    "#37. Write a program that finds the longest word in a sentence using list comprehension.\n",
    "def find_longest_word(sentence):\n",
    "    # Split the sentence into words and find the longest word using list comprehension\n",
    "    words = sentence.split()\n",
    "    longest_word = max(words, key=len)\n",
    "    return longest_word\n",
    "\n",
    "# Example: Find the longest word in a sentence\n",
    "input_sentence = \"Hi Radhika how are you\"\n",
    "longest_word_result = find_longest_word(input_sentence)\n",
    "\n",
    "# Display the result\n",
    "print(f\"Input Sentence: {input_sentence}\")\n",
    "print(f\"Longest Word: {longest_word_result}\")"
   ]
  },
  {
   "cell_type": "code",
   "execution_count": 26,
   "id": "4362e791-2c53-43c5-b3c2-abf996a84bff",
   "metadata": {},
   "outputs": [
    {
     "name": "stdout",
     "output_type": "stream",
     "text": [
      "Original Word List: ['heooo', 'world', 'python', 'programmiing', 'example']\n",
      "Filtered Words with More than 3 Vowels: ['heooo', 'programmiing']\n"
     ]
    }
   ],
   "source": [
    "#38. Create a program that filters a list of strings to include only those with more than three vowels using list comprehension.\n",
    "def count_vowels(word):\n",
    "    # Count the number of vowels in a word\n",
    "    return sum(1 for char in word if char.lower() in 'aeiou')\n",
    "\n",
    "def filter_strings_by_vowels(word_list, min_vowels):\n",
    "    # Use list comprehension to filter words with more than min_vowels vowels\n",
    "    filtered_list = [word for word in word_list if count_vowels(word) > min_vowels]\n",
    "    return filtered_list\n",
    "\n",
    "# Example: Filter a list of strings with more than three vowels\n",
    "word_list = [\"heooo\", \"world\", \"python\", \"programmiing\", \"example\"]\n",
    "min_vowels_required = 3\n",
    "filtered_words = filter_strings_by_vowels(word_list, min_vowels_required)\n",
    "\n",
    "# Display the result\n",
    "print(f\"Original Word List: {word_list}\")\n",
    "print(f\"Filtered Words with More than {min_vowels_required} Vowels: {filtered_words}\")"
   ]
  },
  {
   "cell_type": "code",
   "execution_count": 28,
   "id": "725ad8ca-5f4c-4c60-8e02-e90e61b78db4",
   "metadata": {},
   "outputs": [
    {
     "name": "stdout",
     "output_type": "stream",
     "text": [
      "Sum of digits for numbers from 1 to 1000:\n",
      "[1, 2, 3, 4, 5, 6, 7, 8, 9, 1, 2, 3, 4, 5, 6, 7, 8, 9, 10, 2, 3, 4, 5, 6, 7, 8, 9, 10, 11, 3, 4, 5, 6, 7, 8, 9, 10, 11, 12, 4, 5, 6, 7, 8, 9, 10, 11, 12, 13, 5, 6, 7, 8, 9, 10, 11, 12, 13, 14, 6, 7, 8, 9, 10, 11, 12, 13, 14, 15, 7, 8, 9, 10, 11, 12, 13, 14, 15, 16, 8, 9, 10, 11, 12, 13, 14, 15, 16, 17, 9, 10, 11, 12, 13, 14, 15, 16, 17, 18, 1, 2, 3, 4, 5, 6, 7, 8, 9, 10, 2, 3, 4, 5, 6, 7, 8, 9, 10, 11, 3, 4, 5, 6, 7, 8, 9, 10, 11, 12, 4, 5, 6, 7, 8, 9, 10, 11, 12, 13, 5, 6, 7, 8, 9, 10, 11, 12, 13, 14, 6, 7, 8, 9, 10, 11, 12, 13, 14, 15, 7, 8, 9, 10, 11, 12, 13, 14, 15, 16, 8, 9, 10, 11, 12, 13, 14, 15, 16, 17, 9, 10, 11, 12, 13, 14, 15, 16, 17, 18, 10, 11, 12, 13, 14, 15, 16, 17, 18, 19, 2, 3, 4, 5, 6, 7, 8, 9, 10, 11, 3, 4, 5, 6, 7, 8, 9, 10, 11, 12, 4, 5, 6, 7, 8, 9, 10, 11, 12, 13, 5, 6, 7, 8, 9, 10, 11, 12, 13, 14, 6, 7, 8, 9, 10, 11, 12, 13, 14, 15, 7, 8, 9, 10, 11, 12, 13, 14, 15, 16, 8, 9, 10, 11, 12, 13, 14, 15, 16, 17, 9, 10, 11, 12, 13, 14, 15, 16, 17, 18, 10, 11, 12, 13, 14, 15, 16, 17, 18, 19, 11, 12, 13, 14, 15, 16, 17, 18, 19, 20, 3, 4, 5, 6, 7, 8, 9, 10, 11, 12, 4, 5, 6, 7, 8, 9, 10, 11, 12, 13, 5, 6, 7, 8, 9, 10, 11, 12, 13, 14, 6, 7, 8, 9, 10, 11, 12, 13, 14, 15, 7, 8, 9, 10, 11, 12, 13, 14, 15, 16, 8, 9, 10, 11, 12, 13, 14, 15, 16, 17, 9, 10, 11, 12, 13, 14, 15, 16, 17, 18, 10, 11, 12, 13, 14, 15, 16, 17, 18, 19, 11, 12, 13, 14, 15, 16, 17, 18, 19, 20, 12, 13, 14, 15, 16, 17, 18, 19, 20, 21, 4, 5, 6, 7, 8, 9, 10, 11, 12, 13, 5, 6, 7, 8, 9, 10, 11, 12, 13, 14, 6, 7, 8, 9, 10, 11, 12, 13, 14, 15, 7, 8, 9, 10, 11, 12, 13, 14, 15, 16, 8, 9, 10, 11, 12, 13, 14, 15, 16, 17, 9, 10, 11, 12, 13, 14, 15, 16, 17, 18, 10, 11, 12, 13, 14, 15, 16, 17, 18, 19, 11, 12, 13, 14, 15, 16, 17, 18, 19, 20, 12, 13, 14, 15, 16, 17, 18, 19, 20, 21, 13, 14, 15, 16, 17, 18, 19, 20, 21, 22, 5, 6, 7, 8, 9, 10, 11, 12, 13, 14, 6, 7, 8, 9, 10, 11, 12, 13, 14, 15, 7, 8, 9, 10, 11, 12, 13, 14, 15, 16, 8, 9, 10, 11, 12, 13, 14, 15, 16, 17, 9, 10, 11, 12, 13, 14, 15, 16, 17, 18, 10, 11, 12, 13, 14, 15, 16, 17, 18, 19, 11, 12, 13, 14, 15, 16, 17, 18, 19, 20, 12, 13, 14, 15, 16, 17, 18, 19, 20, 21, 13, 14, 15, 16, 17, 18, 19, 20, 21, 22, 14, 15, 16, 17, 18, 19, 20, 21, 22, 23, 6, 7, 8, 9, 10, 11, 12, 13, 14, 15, 7, 8, 9, 10, 11, 12, 13, 14, 15, 16, 8, 9, 10, 11, 12, 13, 14, 15, 16, 17, 9, 10, 11, 12, 13, 14, 15, 16, 17, 18, 10, 11, 12, 13, 14, 15, 16, 17, 18, 19, 11, 12, 13, 14, 15, 16, 17, 18, 19, 20, 12, 13, 14, 15, 16, 17, 18, 19, 20, 21, 13, 14, 15, 16, 17, 18, 19, 20, 21, 22, 14, 15, 16, 17, 18, 19, 20, 21, 22, 23, 15, 16, 17, 18, 19, 20, 21, 22, 23, 24, 7, 8, 9, 10, 11, 12, 13, 14, 15, 16, 8, 9, 10, 11, 12, 13, 14, 15, 16, 17, 9, 10, 11, 12, 13, 14, 15, 16, 17, 18, 10, 11, 12, 13, 14, 15, 16, 17, 18, 19, 11, 12, 13, 14, 15, 16, 17, 18, 19, 20, 12, 13, 14, 15, 16, 17, 18, 19, 20, 21, 13, 14, 15, 16, 17, 18, 19, 20, 21, 22, 14, 15, 16, 17, 18, 19, 20, 21, 22, 23, 15, 16, 17, 18, 19, 20, 21, 22, 23, 24, 16, 17, 18, 19, 20, 21, 22, 23, 24, 25, 8, 9, 10, 11, 12, 13, 14, 15, 16, 17, 9, 10, 11, 12, 13, 14, 15, 16, 17, 18, 10, 11, 12, 13, 14, 15, 16, 17, 18, 19, 11, 12, 13, 14, 15, 16, 17, 18, 19, 20, 12, 13, 14, 15, 16, 17, 18, 19, 20, 21, 13, 14, 15, 16, 17, 18, 19, 20, 21, 22, 14, 15, 16, 17, 18, 19, 20, 21, 22, 23, 15, 16, 17, 18, 19, 20, 21, 22, 23, 24, 16, 17, 18, 19, 20, 21, 22, 23, 24, 25, 17, 18, 19, 20, 21, 22, 23, 24, 25, 26, 9, 10, 11, 12, 13, 14, 15, 16, 17, 18, 10, 11, 12, 13, 14, 15, 16, 17, 18, 19, 11, 12, 13, 14, 15, 16, 17, 18, 19, 20, 12, 13, 14, 15, 16, 17, 18, 19, 20, 21, 13, 14, 15, 16, 17, 18, 19, 20, 21, 22, 14, 15, 16, 17, 18, 19, 20, 21, 22, 23, 15, 16, 17, 18, 19, 20, 21, 22, 23, 24, 16, 17, 18, 19, 20, 21, 22, 23, 24, 25, 17, 18, 19, 20, 21, 22, 23, 24, 25, 26, 18, 19, 20, 21, 22, 23, 24, 25, 26, 27, 1]\n"
     ]
    }
   ],
   "source": [
    "# 39. Develop a program that calculates the sum of the digits of numbers from 1 to 1000 using list comprehension.\n",
    "def sum_of_digits(n):\n",
    "    return sum(int(digit) for digit in str(n))\n",
    "\n",
    "# Calculate the sum of digits for numbers from 1 to 1000 using list comprehension\n",
    "sum_digits_list = [sum_of_digits(num) for num in range(1, 1001)]\n",
    "\n",
    "# Display the result\n",
    "print(f\"Sum of digits for numbers from 1 to 1000:\")\n",
    "print(sum_digits_list)"
   ]
  },
  {
   "cell_type": "code",
   "execution_count": 30,
   "id": "8665830e-24a0-4a88-9f37-0077656ebfe1",
   "metadata": {},
   "outputs": [
    {
     "name": "stdout",
     "output_type": "stream",
     "text": [
      "List of Prime Palindromic Numbers up to 1000:\n",
      "[2, 3, 5, 7, 11, 101, 131, 151, 181, 191, 313, 353, 373, 383, 727, 757, 787, 797, 919, 929]\n"
     ]
    }
   ],
   "source": [
    "# 40. Write a program that generates a list of prime palindromic numbers using list comprehension.\n",
    "def is_prime(num):\n",
    "    # Function to check if a number is prime\n",
    "    if num < 2:\n",
    "        return False\n",
    "    for i in range(2, int(num**0.5) + 1):\n",
    "        if num % i == 0:\n",
    "            return False\n",
    "    return True\n",
    "\n",
    "def is_palindrome(num):\n",
    "    # Function to check if a number is a palindrome\n",
    "    return str(num) == str(num)[::-1]\n",
    "\n",
    "# Generate a list of prime palindromic numbers using list comprehension\n",
    "prime_palindromic_numbers = [num for num in range(1, 1000) if is_prime(num) and is_palindrome(num)]\n",
    "\n",
    "# Display the result\n",
    "print(\"List of Prime Palindromic Numbers up to 1000:\")\n",
    "print(prime_palindromic_numbers)"
   ]
  },
  {
   "cell_type": "code",
   "execution_count": null,
   "id": "dd82e95e-bd14-4ef9-9f64-4f35c43ce93a",
   "metadata": {},
   "outputs": [],
   "source": [
    "                                                            '''END'''"
   ]
  }
 ],
 "metadata": {
  "kernelspec": {
   "display_name": "Python 3 (ipykernel)",
   "language": "python",
   "name": "python3"
  },
  "language_info": {
   "codemirror_mode": {
    "name": "ipython",
    "version": 3
   },
   "file_extension": ".py",
   "mimetype": "text/x-python",
   "name": "python",
   "nbconvert_exporter": "python",
   "pygments_lexer": "ipython3",
   "version": "3.10.8"
  }
 },
 "nbformat": 4,
 "nbformat_minor": 5
}
